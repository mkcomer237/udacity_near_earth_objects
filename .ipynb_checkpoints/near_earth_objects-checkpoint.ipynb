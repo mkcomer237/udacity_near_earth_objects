{
 "cells": [
  {
   "cell_type": "markdown",
   "metadata": {},
   "source": [
    "### Near Earth Objects \n",
    "\n",
    "Load, query, and output an NEO and implement a command line tool to do this given the database file.  \n",
    "\n",
    "- Inspect a NEO\n",
    "- Query the database with an arbitrary set of filters \n",
    "\n",
    "\n",
    "- pdes - the primary designation of the NEO. This is a unique identifier in the database, and its \"name\" to computer systems.\n",
    "- name - the International Astronomical Union (IAU) name of the NEO. This is its \"name\" to humans.\n",
    "- pha - whether NASA has marked the NEO as a \"Potentially Hazardous Asteroid,\" roughly meaning that it's large and can come quite close to Earth.\n",
    "- diameter - the NEO's diameter (from an equivalent sphere) in kilometers.\n",
    "\n",
    "\n",
    "neos.csv\n",
    "\n",
    "and \n",
    "\n",
    "cad.json\n"
   ]
  },
  {
   "cell_type": "markdown",
   "metadata": {},
   "source": [
    "### Explore the data "
   ]
  },
  {
   "cell_type": "code",
   "execution_count": 45,
   "metadata": {},
   "outputs": [],
   "source": [
    "import json\n",
    "import csv\n",
    "import pandas as pd "
   ]
  },
  {
   "cell_type": "code",
   "execution_count": 2,
   "metadata": {},
   "outputs": [],
   "source": [
    "with open('data/cad.json', mode='r') as infile:\n",
    "    cad = json.load(infile) "
   ]
  },
  {
   "cell_type": "code",
   "execution_count": 3,
   "metadata": {},
   "outputs": [
    {
     "data": {
      "text/plain": [
       "['des',\n",
       " 'orbit_id',\n",
       " 'jd',\n",
       " 'cd',\n",
       " 'dist',\n",
       " 'dist_min',\n",
       " 'dist_max',\n",
       " 'v_rel',\n",
       " 'v_inf',\n",
       " 't_sigma_f',\n",
       " 'h']"
      ]
     },
     "execution_count": 3,
     "metadata": {},
     "output_type": "execute_result"
    }
   ],
   "source": [
    "# Field labels \n",
    "cad['fields']"
   ]
  },
  {
   "cell_type": "code",
   "execution_count": 18,
   "metadata": {},
   "outputs": [
    {
     "data": {
      "text/plain": [
       "['170903',\n",
       " '105',\n",
       " '2415020.507669610',\n",
       " '1900-Jan-01 00:11',\n",
       " '0.0921795123769547',\n",
       " '0.0912006569517418',\n",
       " '0.0931589328621254',\n",
       " '16.7523040362574',\n",
       " '16.7505784933163',\n",
       " '01:00',\n",
       " '18.1']"
      ]
     },
     "execution_count": 18,
     "metadata": {},
     "output_type": "execute_result"
    }
   ],
   "source": [
    "# One Entry\n",
    "cad['data'][0]"
   ]
  },
  {
   "cell_type": "code",
   "execution_count": 19,
   "metadata": {},
   "outputs": [
    {
     "data": {
      "text/plain": [
       "dict_keys(['signature', 'count', 'fields', 'data'])"
      ]
     },
     "execution_count": 19,
     "metadata": {},
     "output_type": "execute_result"
    }
   ],
   "source": [
    "cad.keys()"
   ]
  },
  {
   "cell_type": "code",
   "execution_count": 20,
   "metadata": {},
   "outputs": [
    {
     "data": {
      "text/plain": [
       "'406785'"
      ]
     },
     "execution_count": 20,
     "metadata": {},
     "output_type": "execute_result"
    }
   ],
   "source": [
    "cad['count']"
   ]
  },
  {
   "cell_type": "code",
   "execution_count": 26,
   "metadata": {},
   "outputs": [
    {
     "name": "stdout",
     "output_type": "stream",
     "text": [
      "des:  2015 CL\n",
      "distance:  0.144929602021186\n",
      "relative velocity:  12.0338907050642\n",
      "des:  2002 PB\n",
      "distance:  0.499221505520251\n",
      "relative velocity:  29.3862908945476\n",
      "des:  417655\n",
      "distance:  0.347809805138266\n",
      "relative velocity:  9.63652182082792\n",
      "des:  2002 AY1\n",
      "distance:  0.271330274354689\n",
      "relative velocity:  24.6801874471394\n"
     ]
    }
   ],
   "source": [
    "# 2015 CL\n",
    "for approach in cad['data']:\n",
    "    if approach[3].startswith('2000-Jan-01'):\n",
    "        print('des: ', approach[0])\n",
    "        print('distance: ', approach[4])\n",
    "        print('relative velocity: ', approach[7])"
   ]
  },
  {
   "cell_type": "code",
   "execution_count": 5,
   "metadata": {},
   "outputs": [
    {
     "name": "stdout",
     "output_type": "stream",
     "text": [
      "['id', 'spkid', 'full_name', 'pdes', 'name', 'prefix', 'neo', 'pha', 'H', 'G', 'M1', 'M2', 'K1', 'K2', 'PC', 'diameter', 'extent', 'albedo', 'rot_per', 'GM', 'BV', 'UB', 'IR', 'spec_B', 'spec_T', 'H_sigma', 'diameter_sigma', 'orbit_id', 'epoch', 'epoch_mjd', 'epoch_cal', 'equinox', 'e', 'a', 'q', 'i', 'om', 'w', 'ma', 'ad', 'n', 'tp', 'tp_cal', 'per', 'per_y', 'moid', 'moid_ld', 'moid_jup', 't_jup', 'sigma_e', 'sigma_a', 'sigma_q', 'sigma_i', 'sigma_om', 'sigma_w', 'sigma_ma', 'sigma_ad', 'sigma_n', 'sigma_tp', 'sigma_per', 'class', 'producer', 'data_arc', 'first_obs', 'last_obs', 'n_obs_used', 'n_del_obs_used', 'n_dop_obs_used', 'condition_code', 'rms', 'two_body', 'A1', 'A2', 'A3', 'DT']\n",
      "['a0000433', '2000433', '   433 Eros (A898 PA)', '433', 'Eros', '', 'Y', 'N', '10.4', '0.46', '', '', '', '', '', '16.84', '34.4x11.2x11.2', '0.25', '5.270', '4.463e-04', '0.921', '0.531', '', 'S', 'S', '', '0.06', 'JPL 658', '2459000.5', '59000', '20200531.0000000', 'J2000', '.2229512647434284', '1.458045729081037', '1.132972589728666', '10.83054121829922', '304.2993259000444', '178.8822959227224', '271.0717325705167', '1.783118868433408', '.5598186418120109', '2459159.351922368362', '20201105.8519224', '643.0654021001488', '1.76061711731731', '.148623', '57.83961291', '3.2865', '4.582', '9.6497E-9', '2.1374E-10', '1.4063E-8', '1.1645E-6', '3.8525E-6', '4.088E-6', '1.4389E-6', '2.6139E-10', '1.231E-10', '2.5792E-6', '1.414E-7', 'AMO', 'Giorgini', '46330', '1893-10-29', '2020-09-03', '8767', '4', '2', '0', '.28397', '', '', '', '', '']\n"
     ]
    }
   ],
   "source": [
    "with open('data/neos.csv', mode='r') as incsv:\n",
    "    neos = csv.reader(incsv)\n",
    "    for cnt, line in enumerate(neos):\n",
    "        print(line)\n",
    "        if cnt==1:\n",
    "            break"
   ]
  },
  {
   "cell_type": "code",
   "execution_count": 7,
   "metadata": {},
   "outputs": [],
   "source": [
    "from collections import OrderedDict"
   ]
  },
  {
   "cell_type": "code",
   "execution_count": 46,
   "metadata": {},
   "outputs": [
    {
     "name": "stdout",
     "output_type": "stream",
     "text": [
      "['id', 'spkid', 'full_name', 'pdes', 'name', 'prefix', 'neo', 'pha', 'H', 'G', 'M1', 'M2', 'K1', 'K2', 'PC', 'diameter', 'extent', 'albedo', 'rot_per', 'GM', 'BV', 'UB', 'IR', 'spec_B', 'spec_T', 'H_sigma', 'diameter_sigma', 'orbit_id', 'epoch', 'epoch_mjd', 'epoch_cal', 'equinox', 'e', 'a', 'q', 'i', 'om', 'w', 'ma', 'ad', 'n', 'tp', 'tp_cal', 'per', 'per_y', 'moid', 'moid_ld', 'moid_jup', 't_jup', 'sigma_e', 'sigma_a', 'sigma_q', 'sigma_i', 'sigma_om', 'sigma_w', 'sigma_ma', 'sigma_ad', 'sigma_n', 'sigma_tp', 'sigma_per', 'class', 'producer', 'data_arc', 'first_obs', 'last_obs', 'n_obs_used', 'n_del_obs_used', 'n_dop_obs_used', 'condition_code', 'rms', 'two_body', 'A1', 'A2', 'A3', 'DT']\n"
     ]
    }
   ],
   "source": [
    "# Import into a dict with the first element as the key \n",
    "with open('data/neos.csv', mode='r') as incsv:\n",
    "    neos = csv.reader(incsv)\n",
    "    # Get the header (and prevent it from being put into the dictionary)\n",
    "    header = next(neos)\n",
    "    print(header)\n",
    "    neos_dict = {}\n",
    "    # Create a dictionary with id as keys, and a dictionary based on the headers for each entry for easy lookup\n",
    "    for line in neos:\n",
    "        neos_dict[line[0]] = {header[i]:line[i] for i in range(len(header))}"
   ]
  },
  {
   "cell_type": "code",
   "execution_count": 47,
   "metadata": {},
   "outputs": [
    {
     "data": {
      "text/plain": [
       "23967"
      ]
     },
     "execution_count": 47,
     "metadata": {},
     "output_type": "execute_result"
    }
   ],
   "source": [
    "len(neos_dict)\n"
   ]
  },
  {
   "cell_type": "code",
   "execution_count": 48,
   "metadata": {},
   "outputs": [
    {
     "data": {
      "text/plain": [
       "'1.5'"
      ]
     },
     "execution_count": 48,
     "metadata": {},
     "output_type": "execute_result"
    }
   ],
   "source": [
    "neos_dict['a0001862']['diameter']"
   ]
  },
  {
   "cell_type": "code",
   "execution_count": 49,
   "metadata": {},
   "outputs": [
    {
     "data": {
      "text/plain": [
       "{'id': 'a0001862',\n",
       " 'spkid': '2001862',\n",
       " 'full_name': '  1862 Apollo (1932 HA)',\n",
       " 'pdes': '1862',\n",
       " 'name': 'Apollo',\n",
       " 'prefix': '',\n",
       " 'neo': 'Y',\n",
       " 'pha': 'Y',\n",
       " 'H': '16.25',\n",
       " 'G': '0.09',\n",
       " 'M1': '',\n",
       " 'M2': '',\n",
       " 'K1': '',\n",
       " 'K2': '',\n",
       " 'PC': '',\n",
       " 'diameter': '1.5',\n",
       " 'extent': '',\n",
       " 'albedo': '0.25',\n",
       " 'rot_per': '3.065',\n",
       " 'GM': '',\n",
       " 'BV': '0.819',\n",
       " 'UB': '0.481',\n",
       " 'IR': '',\n",
       " 'spec_B': 'Q',\n",
       " 'spec_T': 'Q',\n",
       " 'H_sigma': '',\n",
       " 'diameter_sigma': '',\n",
       " 'orbit_id': 'JPL 308',\n",
       " 'epoch': '2459000.5',\n",
       " 'epoch_mjd': '59000',\n",
       " 'epoch_cal': '20200531.0000000',\n",
       " 'equinox': 'J2000',\n",
       " 'e': '.5599167398990702',\n",
       " 'a': '1.470345437077941',\n",
       " 'q': '.6470744134237867',\n",
       " 'i': '6.35473160977809',\n",
       " 'om': '35.62713125014458',\n",
       " 'w': '285.9759580870181',\n",
       " 'ma': '88.54647870988587',\n",
       " 'ad': '2.293616460732095',\n",
       " 'n': '.55280887491436',\n",
       " 'tp': '2458840.324426256537',\n",
       " 'tp_cal': '20191222.8244263',\n",
       " 'per': '651.2196463122456',\n",
       " 'per_y': '1.78294222125187',\n",
       " 'moid': '.0258141',\n",
       " 'moid_ld': '10.046073297',\n",
       " 'moid_jup': '3.07104',\n",
       " 't_jup': '4.414',\n",
       " 'sigma_e': '1.3185E-8',\n",
       " 'sigma_a': '8.2996E-10',\n",
       " 'sigma_q': '1.956E-8',\n",
       " 'sigma_i': '3.3105E-6',\n",
       " 'sigma_om': '2.3987E-5',\n",
       " 'sigma_w': '2.4893E-5',\n",
       " 'sigma_ma': '3.4486E-6',\n",
       " 'sigma_ad': '1.2947E-9',\n",
       " 'sigma_n': '4.6806E-10',\n",
       " 'sigma_tp': '6.1038E-6',\n",
       " 'sigma_per': '5.5138E-7',\n",
       " 'class': 'APO',\n",
       " 'producer': 'Otto Matic',\n",
       " 'data_arc': '32581',\n",
       " 'first_obs': '1930-12-13',\n",
       " 'last_obs': '2020-02-25',\n",
       " 'n_obs_used': '1689',\n",
       " 'n_del_obs_used': '8',\n",
       " 'n_dop_obs_used': '9',\n",
       " 'condition_code': '0',\n",
       " 'rms': '.48568',\n",
       " 'two_body': '',\n",
       " 'A1': '',\n",
       " 'A2': '-3.770246513203781E-15',\n",
       " 'A3': '',\n",
       " 'DT': ''}"
      ]
     },
     "execution_count": 49,
     "metadata": {},
     "output_type": "execute_result"
    }
   ],
   "source": [
    "neos_dict['a0001862']"
   ]
  },
  {
   "cell_type": "code",
   "execution_count": 16,
   "metadata": {},
   "outputs": [
    {
     "data": {
      "text/plain": [
       "343"
      ]
     },
     "execution_count": 16,
     "metadata": {},
     "output_type": "execute_result"
    }
   ],
   "source": [
    "counter = 0 \n",
    "for key, value in neos_dict.items():\n",
    "    if neos_dict[key]['name'] != '':\n",
    "        counter += 1 \n",
    "counter"
   ]
  },
  {
   "cell_type": "code",
   "execution_count": 17,
   "metadata": {},
   "outputs": [
    {
     "data": {
      "text/plain": [
       "1268"
      ]
     },
     "execution_count": 17,
     "metadata": {},
     "output_type": "execute_result"
    }
   ],
   "source": [
    "counter = 0 \n",
    "for key, value in neos_dict.items():\n",
    "    if neos_dict[key]['diameter'] != '':\n",
    "        counter += 1 \n",
    "counter"
   ]
  },
  {
   "cell_type": "markdown",
   "metadata": {},
   "source": [
    "### Test out the models file \n",
    "\n"
   ]
  },
  {
   "cell_type": "code",
   "execution_count": 18,
   "metadata": {},
   "outputs": [],
   "source": [
    "import importlib\n",
    "import models"
   ]
  },
  {
   "cell_type": "code",
   "execution_count": 41,
   "metadata": {},
   "outputs": [],
   "source": [
    "# Reload with the latest edits \n",
    "importlib.reload(models)\n",
    "from models import NearEarthObject\n",
    "from models import CloseApproach"
   ]
  },
  {
   "cell_type": "markdown",
   "metadata": {},
   "source": [
    "**NearEarthObject**"
   ]
  },
  {
   "cell_type": "code",
   "execution_count": 92,
   "metadata": {},
   "outputs": [],
   "source": [
    "test_neo = NearEarthObject(designation=204, name='Eros', diameter=2.3, hazardous=True)"
   ]
  },
  {
   "cell_type": "code",
   "execution_count": 93,
   "metadata": {},
   "outputs": [
    {
     "name": "stdout",
     "output_type": "stream",
     "text": [
      "A NearEarthObject with designation '204', \n",
      "                   name 'Eros', \n",
      "                   diameter 2.300, and \n",
      "                   hazardous status of False\n"
     ]
    }
   ],
   "source": [
    "print(test_neo)"
   ]
  },
  {
   "cell_type": "code",
   "execution_count": 16,
   "metadata": {},
   "outputs": [
    {
     "data": {
      "text/plain": [
       "\"NearEarthObject(designation='204', name=None, diameter=2.300, hazardous=True)\""
      ]
     },
     "execution_count": 16,
     "metadata": {},
     "output_type": "execute_result"
    }
   ],
   "source": [
    "repr(test_neo)"
   ]
  },
  {
   "cell_type": "code",
   "execution_count": 17,
   "metadata": {},
   "outputs": [
    {
     "name": "stdout",
     "output_type": "stream",
     "text": [
      "204\n",
      "None\n",
      "2.3\n",
      "True\n",
      "204 None\n"
     ]
    }
   ],
   "source": [
    "print(test_neo.designation)\n",
    "print(test_neo.name)\n",
    "print(test_neo.diameter)\n",
    "print(test_neo.hazardous)\n",
    "print(test_neo.fullname)"
   ]
  },
  {
   "cell_type": "markdown",
   "metadata": {},
   "source": [
    "**CloseApproach**"
   ]
  },
  {
   "cell_type": "code",
   "execution_count": 42,
   "metadata": {},
   "outputs": [],
   "source": [
    "test_ca = CloseApproach(designation = 204, distance=2.3, velocity = 23332.4, \n",
    "                        time='2019-Jan-04 12:31')"
   ]
  },
  {
   "cell_type": "code",
   "execution_count": 43,
   "metadata": {},
   "outputs": [
    {
     "name": "stdout",
     "output_type": "stream",
     "text": [
      "A CloseApproach object with hidden designation '204', \n",
      "                   time '2019-01-04 12:31', \n",
      "                   diameter 2.30, and \n",
      "                   velocity of 23332.40\n"
     ]
    }
   ],
   "source": [
    "print(test_ca)"
   ]
  },
  {
   "cell_type": "code",
   "execution_count": 44,
   "metadata": {},
   "outputs": [
    {
     "data": {
      "text/plain": [
       "\"NearEarthObject(designation='204', name=None, diameter=2.300, hazardous=True)\""
      ]
     },
     "execution_count": 44,
     "metadata": {},
     "output_type": "execute_result"
    }
   ],
   "source": [
    "repr(test_neo)"
   ]
  },
  {
   "cell_type": "markdown",
   "metadata": {},
   "source": [
    "### Extract Data Testing"
   ]
  },
  {
   "cell_type": "code",
   "execution_count": 89,
   "metadata": {},
   "outputs": [],
   "source": [
    "importlib.reload(models)\n",
    "from models import NearEarthObject\n",
    "from models import CloseApproach"
   ]
  },
  {
   "cell_type": "code",
   "execution_count": 95,
   "metadata": {},
   "outputs": [],
   "source": [
    "# Import into a dict with the first element as the key \n",
    "neos_dict = {}\n",
    "with open('data/neos.csv', mode='r') as incsv:\n",
    "    neos = csv.reader(incsv)\n",
    "    # Get the header (and prevent it from being put into the dictionary)\n",
    "    header = next(neos)\n",
    "    #for idn, name in enumerate(header):\n",
    "    #    print(idn, name)\n",
    "    # Create a dictionary with id as keys, and a dictionary based on the headers for each entry for easy lookup\n",
    "    for line in neos:\n",
    "        neos_dict[line[3]] = NearEarthObject(designation=line[3], \n",
    "                                            name=line[4],\n",
    "                                            diameter=line[15], \n",
    "                                            hazardous=line[7])"
   ]
  },
  {
   "cell_type": "code",
   "execution_count": 96,
   "metadata": {},
   "outputs": [
    {
     "name": "stdout",
     "output_type": "stream",
     "text": [
      "433 A NearEarthObject with designation '433', \n",
      "                   name 'Eros', \n",
      "                   diameter 16.840, and \n",
      "                   hazardous status of False\n",
      "719 A NearEarthObject with designation '719', \n",
      "                   name 'Albert', \n",
      "                   diameter nan, and \n",
      "                   hazardous status of False\n",
      "887 A NearEarthObject with designation '887', \n",
      "                   name 'Alinda', \n",
      "                   diameter 4.200, and \n",
      "                   hazardous status of False\n",
      "1036 A NearEarthObject with designation '1036', \n",
      "                   name 'Ganymed', \n",
      "                   diameter 37.675, and \n",
      "                   hazardous status of False\n",
      "1221 A NearEarthObject with designation '1221', \n",
      "                   name 'Amor', \n",
      "                   diameter 1.000, and \n",
      "                   hazardous status of False\n"
     ]
    }
   ],
   "source": [
    "counter = 0 \n",
    "for key, value in neos_dict.items():\n",
    "    print(key, value)\n",
    "    counter += 1 \n",
    "    if counter >= 5:\n",
    "        break"
   ]
  },
  {
   "cell_type": "code",
   "execution_count": 110,
   "metadata": {},
   "outputs": [
    {
     "name": "stdout",
     "output_type": "stream",
     "text": [
      "A NearEarthObject with designation '2015 CL', \n",
      "                   name '', \n",
      "                   diameter nan, and \n",
      "                   hazardous status of False\n",
      "A NearEarthObject with designation '1862', \n",
      "                   name 'Apollo', \n",
      "                   diameter 1.500, and \n",
      "                   hazardous status of True\n"
     ]
    }
   ],
   "source": [
    "print(neos_dict['2015 CL'])\n",
    "print(neos_dict['1862'])"
   ]
  },
  {
   "cell_type": "code",
   "execution_count": 72,
   "metadata": {},
   "outputs": [],
   "source": [
    "cad_list = [] \n",
    "with open('data/cad.json', mode='r') as infile:\n",
    "    cad = json.load(infile) \n",
    "for approach in cad['data']:\n",
    "    cad_list.append(CloseApproach(designation=approach[0],\n",
    "                                   distance=approach[4],\n",
    "                                   velocity=approach[8],\n",
    "                                   time=approach[3]))"
   ]
  },
  {
   "cell_type": "code",
   "execution_count": 67,
   "metadata": {},
   "outputs": [
    {
     "name": "stdout",
     "output_type": "stream",
     "text": [
      "0 des\n",
      "1 orbit_id\n",
      "2 jd\n",
      "3 cd\n",
      "4 dist\n",
      "5 dist_min\n",
      "6 dist_max\n",
      "7 v_rel\n",
      "8 v_inf\n",
      "9 t_sigma_f\n",
      "10 h\n"
     ]
    }
   ],
   "source": [
    "for enum, field in enumerate(cad['fields']):\n",
    "    print(enum, field)"
   ]
  },
  {
   "cell_type": "code",
   "execution_count": 68,
   "metadata": {},
   "outputs": [
    {
     "data": {
      "text/plain": [
       "['170903',\n",
       " '105',\n",
       " '2415020.507669610',\n",
       " '1900-Jan-01 00:11',\n",
       " '0.0921795123769547',\n",
       " '0.0912006569517418',\n",
       " '0.0931589328621254',\n",
       " '16.7523040362574',\n",
       " '16.7505784933163',\n",
       " '01:00',\n",
       " '18.1']"
      ]
     },
     "execution_count": 68,
     "metadata": {},
     "output_type": "execute_result"
    }
   ],
   "source": [
    "cad['data'][0]"
   ]
  },
  {
   "cell_type": "code",
   "execution_count": 73,
   "metadata": {},
   "outputs": [
    {
     "data": {
      "text/plain": [
       "[CloseApproach(time='1900-01-01 02:33', distance=0.41, velocity=17.92, neo=None),\n",
       " CloseApproach(time='1900-01-01 03:13', distance=0.11, velocity=7.39, neo=None),\n",
       " CloseApproach(time='1900-01-01 05:01', distance=0.24, velocity=4.78, neo=None)]"
      ]
     },
     "execution_count": 73,
     "metadata": {},
     "output_type": "execute_result"
    }
   ],
   "source": [
    "cad_list[1:4]"
   ]
  },
  {
   "cell_type": "code",
   "execution_count": 74,
   "metadata": {},
   "outputs": [
    {
     "name": "stdout",
     "output_type": "stream",
     "text": [
      "A CloseApproach object with hidden designation '2006 XO4', \n",
      "                   time '1900-01-01 03:13', \n",
      "                   diameter 0.11, and \n",
      "                   velocity of 7.39\n"
     ]
    }
   ],
   "source": [
    "print(cad_list[2])"
   ]
  },
  {
   "cell_type": "code",
   "execution_count": null,
   "metadata": {},
   "outputs": [],
   "source": [
    "test_ca = CloseApproach(designation = 204, distance=2.3, velocity = 23332.4, \n",
    "                        time='2019-Jan-04 12:31')"
   ]
  },
  {
   "cell_type": "markdown",
   "metadata": {},
   "source": [
    "**Line the objects** \n",
    "\n",
    "- Each approach should have the neo object for the approach \n",
    "- Each neo should have a list of approaches it had "
   ]
  },
  {
   "cell_type": "code",
   "execution_count": 109,
   "metadata": {},
   "outputs": [],
   "source": [
    "for approach in cad_list: \n",
    "    # Add the neo object for each approach\n",
    "    approach.neo = neos_dict[approach._designation] \n",
    "    # Add the approach itself to the neo object if involves \n",
    "    neos_dict[approach._designation].approaches.append(approach)"
   ]
  },
  {
   "cell_type": "code",
   "execution_count": 107,
   "metadata": {},
   "outputs": [
    {
     "data": {
      "text/plain": [
       "CloseApproach(time='1900-01-01 05:01', distance=0.24, velocity=4.78, neo=NearEarthObject(designation='7088', name='Ishtar', diameter=1.30, hazardous=False))"
      ]
     },
     "execution_count": 107,
     "metadata": {},
     "output_type": "execute_result"
    }
   ],
   "source": [
    "cad_list[3]"
   ]
  },
  {
   "cell_type": "code",
   "execution_count": null,
   "metadata": {},
   "outputs": [],
   "source": [
    "neos_dict"
   ]
  },
  {
   "cell_type": "code",
   "execution_count": 111,
   "metadata": {},
   "outputs": [
    {
     "data": {
      "text/plain": [
       "[CloseApproach(time='1901-12-20 22:36', distance=0.10, velocity=12.49, neo=NearEarthObject(designation='2015 CL', name='', diameter=nan, hazardous=False)),\n",
       " CloseApproach(time='1904-02-04 01:03', distance=0.26, velocity=23.61, neo=NearEarthObject(designation='2015 CL', name='', diameter=nan, hazardous=False)),\n",
       " CloseApproach(time='1904-12-26 11:25', distance=0.44, velocity=29.96, neo=NearEarthObject(designation='2015 CL', name='', diameter=nan, hazardous=False)),\n",
       " CloseApproach(time='1907-01-14 07:42', distance=0.16, velocity=12.03, neo=NearEarthObject(designation='2015 CL', name='', diameter=nan, hazardous=False)),\n",
       " CloseApproach(time='1909-01-25 15:49', distance=0.47, velocity=31.34, neo=NearEarthObject(designation='2015 CL', name='', diameter=nan, hazardous=False)),\n",
       " CloseApproach(time='1909-12-18 07:27', distance=0.23, velocity=22.21, neo=NearEarthObject(designation='2015 CL', name='', diameter=nan, hazardous=False)),\n",
       " CloseApproach(time='1912-02-06 03:57', distance=0.06, velocity=13.14, neo=NearEarthObject(designation='2015 CL', name='', diameter=nan, hazardous=False)),\n",
       " CloseApproach(time='1914-12-15 01:24', distance=0.04, velocity=14.87, neo=NearEarthObject(designation='2015 CL', name='', diameter=nan, hazardous=False)),\n",
       " CloseApproach(time='1917-02-06 17:51', distance=0.15, velocity=19.68, neo=NearEarthObject(designation='2015 CL', name='', diameter=nan, hazardous=False)),\n",
       " CloseApproach(time='1920-01-02 05:29', distance=0.15, velocity=12.02, neo=NearEarthObject(designation='2015 CL', name='', diameter=nan, hazardous=False)),\n",
       " CloseApproach(time='1920-04-05 11:40', distance=0.49, velocity=7.64, neo=NearEarthObject(designation='2015 CL', name='', diameter=nan, hazardous=False)),\n",
       " CloseApproach(time='1922-01-30 05:29', distance=0.37, velocity=27.66, neo=NearEarthObject(designation='2015 CL', name='', diameter=nan, hazardous=False)),\n",
       " CloseApproach(time='1922-12-22 08:29', distance=0.33, velocity=25.86, neo=NearEarthObject(designation='2015 CL', name='', diameter=nan, hazardous=False)),\n",
       " CloseApproach(time='1925-01-27 10:19', distance=0.13, velocity=12.13, neo=NearEarthObject(designation='2015 CL', name='', diameter=nan, hazardous=False)),\n",
       " CloseApproach(time='1927-12-15 17:58', distance=0.11, velocity=18.10, neo=NearEarthObject(designation='2015 CL', name='', diameter=nan, hazardous=False)),\n",
       " CloseApproach(time='1930-02-08 19:33', distance=0.04, velocity=16.08, neo=NearEarthObject(designation='2015 CL', name='', diameter=nan, hazardous=False)),\n",
       " CloseApproach(time='1932-12-21 08:12', distance=0.10, velocity=12.45, neo=NearEarthObject(designation='2015 CL', name='', diameter=nan, hazardous=False)),\n",
       " CloseApproach(time='1935-02-03 08:13', distance=0.28, velocity=24.18, neo=NearEarthObject(designation='2015 CL', name='', diameter=nan, hazardous=False)),\n",
       " CloseApproach(time='1935-12-26 13:04', distance=0.42, velocity=29.21, neo=NearEarthObject(designation='2015 CL', name='', diameter=nan, hazardous=False)),\n",
       " CloseApproach(time='1938-01-18 03:30', distance=0.15, velocity=12.00, neo=NearEarthObject(designation='2015 CL', name='', diameter=nan, hazardous=False)),\n",
       " CloseApproach(time='1940-12-16 19:49', distance=0.18, velocity=20.52, neo=NearEarthObject(designation='2015 CL', name='', diameter=nan, hazardous=False)),\n",
       " CloseApproach(time='1943-02-08 10:26', distance=0.02, velocity=14.37, neo=NearEarthObject(designation='2015 CL', name='', diameter=nan, hazardous=False)),\n",
       " CloseApproach(time='1945-12-16 06:00', distance=0.06, velocity=13.69, neo=NearEarthObject(designation='2015 CL', name='', diameter=nan, hazardous=False)),\n",
       " CloseApproach(time='1948-02-06 15:39', distance=0.19, velocity=21.01, neo=NearEarthObject(designation='2015 CL', name='', diameter=nan, hazardous=False)),\n",
       " CloseApproach(time='1951-01-05 09:33', distance=0.15, velocity=12.02, neo=NearEarthObject(designation='2015 CL', name='', diameter=nan, hazardous=False)),\n",
       " CloseApproach(time='1953-01-29 03:51', distance=0.40, velocity=28.46, neo=NearEarthObject(designation='2015 CL', name='', diameter=nan, hazardous=False)),\n",
       " CloseApproach(time='1953-12-21 10:12', distance=0.31, velocity=25.11, neo=NearEarthObject(designation='2015 CL', name='', diameter=nan, hazardous=False)),\n",
       " CloseApproach(time='1956-01-29 21:44', distance=0.12, velocity=12.17, neo=NearEarthObject(designation='2015 CL', name='', diameter=nan, hazardous=False)),\n",
       " CloseApproach(time='1958-12-15 12:05', distance=0.11, velocity=18.00, neo=NearEarthObject(designation='2015 CL', name='', diameter=nan, hazardous=False)),\n",
       " CloseApproach(time='1961-02-08 17:41', distance=0.04, velocity=15.94, neo=NearEarthObject(designation='2015 CL', name='', diameter=nan, hazardous=False)),\n",
       " CloseApproach(time='1963-12-20 18:02', distance=0.09, velocity=12.64, neo=NearEarthObject(designation='2015 CL', name='', diameter=nan, hazardous=False)),\n",
       " CloseApproach(time='1966-02-04 00:57', distance=0.25, velocity=23.39, neo=NearEarthObject(designation='2015 CL', name='', diameter=nan, hazardous=False)),\n",
       " CloseApproach(time='1966-12-27 11:10', distance=0.44, velocity=30.04, neo=NearEarthObject(designation='2015 CL', name='', diameter=nan, hazardous=False)),\n",
       " CloseApproach(time='1969-01-14 09:45', distance=0.16, velocity=12.02, neo=NearEarthObject(designation='2015 CL', name='', diameter=nan, hazardous=False)),\n",
       " CloseApproach(time='1971-01-26 08:58', distance=0.48, velocity=31.42, neo=NearEarthObject(designation='2015 CL', name='', diameter=nan, hazardous=False)),\n",
       " CloseApproach(time='1971-12-19 01:58', distance=0.22, velocity=22.18, neo=NearEarthObject(designation='2015 CL', name='', diameter=nan, hazardous=False)),\n",
       " CloseApproach(time='1974-02-05 17:43', distance=0.07, velocity=13.05, neo=NearEarthObject(designation='2015 CL', name='', diameter=nan, hazardous=False)),\n",
       " CloseApproach(time='1976-12-14 14:32', distance=0.05, velocity=15.39, neo=NearEarthObject(designation='2015 CL', name='', diameter=nan, hazardous=False)),\n",
       " CloseApproach(time='1979-02-08 12:39', distance=0.11, velocity=18.45, neo=NearEarthObject(designation='2015 CL', name='', diameter=nan, hazardous=False)),\n",
       " CloseApproach(time='1981-12-26 13:53', distance=0.13, velocity=12.14, neo=NearEarthObject(designation='2015 CL', name='', diameter=nan, hazardous=False)),\n",
       " CloseApproach(time='1984-02-02 17:32', distance=0.31, velocity=25.25, neo=NearEarthObject(designation='2015 CL', name='', diameter=nan, hazardous=False)),\n",
       " CloseApproach(time='1984-12-25 00:16', distance=0.40, velocity=28.43, neo=NearEarthObject(designation='2015 CL', name='', diameter=nan, hazardous=False)),\n",
       " CloseApproach(time='1987-01-19 01:53', distance=0.15, velocity=12.00, neo=NearEarthObject(designation='2015 CL', name='', diameter=nan, hazardous=False)),\n",
       " CloseApproach(time='1989-12-17 17:58', distance=0.20, velocity=21.19, neo=NearEarthObject(designation='2015 CL', name='', diameter=nan, hazardous=False)),\n",
       " CloseApproach(time='1992-02-07 17:50', distance=0.04, velocity=13.60, neo=NearEarthObject(designation='2015 CL', name='', diameter=nan, hazardous=False)),\n",
       " CloseApproach(time='1994-12-15 16:18', distance=0.04, velocity=14.45, neo=NearEarthObject(designation='2015 CL', name='', diameter=nan, hazardous=False)),\n",
       " CloseApproach(time='1997-02-07 03:06', distance=0.15, velocity=19.81, neo=NearEarthObject(designation='2015 CL', name='', diameter=nan, hazardous=False)),\n",
       " CloseApproach(time='2000-01-01 01:48', distance=0.14, velocity=12.03, neo=NearEarthObject(designation='2015 CL', name='', diameter=nan, hazardous=False)),\n",
       " CloseApproach(time='2002-01-31 10:57', distance=0.35, velocity=26.89, neo=NearEarthObject(designation='2015 CL', name='', diameter=nan, hazardous=False)),\n",
       " CloseApproach(time='2002-12-23 16:37', distance=0.35, velocity=26.72, neo=NearEarthObject(designation='2015 CL', name='', diameter=nan, hazardous=False)),\n",
       " CloseApproach(time='2005-01-24 06:48', distance=0.14, velocity=12.03, neo=NearEarthObject(designation='2015 CL', name='', diameter=nan, hazardous=False)),\n",
       " CloseApproach(time='2007-12-16 23:14', distance=0.15, velocity=19.52, neo=NearEarthObject(designation='2015 CL', name='', diameter=nan, hazardous=False)),\n",
       " CloseApproach(time='2010-02-08 19:44', distance=0.00, velocity=14.75, neo=NearEarthObject(designation='2015 CL', name='', diameter=nan, hazardous=False)),\n",
       " CloseApproach(time='2012-12-13 20:28', distance=0.08, velocity=16.76, neo=NearEarthObject(designation='2015 CL', name='', diameter=nan, hazardous=False)),\n",
       " CloseApproach(time='2015-02-08 22:39', distance=0.01, velocity=14.49, neo=NearEarthObject(designation='2015 CL', name='', diameter=nan, hazardous=False)),\n",
       " CloseApproach(time='2017-12-14 11:39', distance=0.11, velocity=18.15, neo=NearEarthObject(designation='2015 CL', name='', diameter=nan, hazardous=False)),\n",
       " CloseApproach(time='2020-02-06 10:08', distance=0.07, velocity=12.98, neo=NearEarthObject(designation='2015 CL', name='', diameter=nan, hazardous=False)),\n",
       " CloseApproach(time='2022-12-16 15:15', distance=0.19, velocity=20.75, neo=NearEarthObject(designation='2015 CL', name='', diameter=nan, hazardous=False)),\n",
       " CloseApproach(time='2025-01-29 23:06', distance=0.12, velocity=12.16, neo=NearEarthObject(designation='2015 CL', name='', diameter=nan, hazardous=False)),\n",
       " CloseApproach(time='2027-01-25 16:30', distance=0.50, velocity=32.08, neo=NearEarthObject(designation='2015 CL', name='', diameter=nan, hazardous=False)),\n",
       " CloseApproach(time='2027-12-19 15:42', distance=0.27, velocity=23.68, neo=NearEarthObject(designation='2015 CL', name='', diameter=nan, hazardous=False)),\n",
       " CloseApproach(time='2029-10-17 23:04', distance=0.49, velocity=8.40, neo=NearEarthObject(designation='2015 CL', name='', diameter=nan, hazardous=False)),\n",
       " CloseApproach(time='2030-01-20 06:10', distance=0.16, velocity=11.96, neo=NearEarthObject(designation='2015 CL', name='', diameter=nan, hazardous=False)),\n",
       " CloseApproach(time='2032-01-29 20:17', distance=0.41, velocity=28.78, neo=NearEarthObject(designation='2015 CL', name='', diameter=nan, hazardous=False)),\n",
       " CloseApproach(time='2032-12-22 11:11', distance=0.36, velocity=26.97, neo=NearEarthObject(designation='2015 CL', name='', diameter=nan, hazardous=False)),\n",
       " CloseApproach(time='2035-01-09 16:52', distance=0.16, velocity=11.98, neo=NearEarthObject(designation='2015 CL', name='', diameter=nan, hazardous=False)),\n",
       " CloseApproach(time='2037-02-01 14:10', distance=0.32, velocity=25.66, neo=NearEarthObject(designation='2015 CL', name='', diameter=nan, hazardous=False)),\n",
       " CloseApproach(time='2037-12-26 07:29', distance=0.44, velocity=30.05, neo=NearEarthObject(designation='2015 CL', name='', diameter=nan, hazardous=False)),\n",
       " CloseApproach(time='2039-12-31 00:43', distance=0.15, velocity=11.97, neo=NearEarthObject(designation='2015 CL', name='', diameter=nan, hazardous=False)),\n",
       " CloseApproach(time='2042-02-04 23:54', distance=0.23, velocity=22.66, neo=NearEarthObject(designation='2015 CL', name='', diameter=nan, hazardous=False)),\n",
       " CloseApproach(time='2044-12-21 13:00', distance=0.11, velocity=12.30, neo=NearEarthObject(designation='2015 CL', name='', diameter=nan, hazardous=False)),\n",
       " CloseApproach(time='2047-02-07 16:03', distance=0.16, velocity=19.96, neo=NearEarthObject(designation='2015 CL', name='', diameter=nan, hazardous=False)),\n",
       " CloseApproach(time='2049-12-16 07:03', distance=0.07, velocity=13.30, neo=NearEarthObject(designation='2015 CL', name='', diameter=nan, hazardous=False)),\n",
       " CloseApproach(time='2052-02-09 10:55', distance=0.09, velocity=17.57, neo=NearEarthObject(designation='2015 CL', name='', diameter=nan, hazardous=False)),\n",
       " CloseApproach(time='2054-12-14 10:48', distance=0.04, velocity=14.92, neo=NearEarthObject(designation='2015 CL', name='', diameter=nan, hazardous=False)),\n",
       " CloseApproach(time='2057-02-09 03:28', distance=0.02, velocity=15.51, neo=NearEarthObject(designation='2015 CL', name='', diameter=nan, hazardous=False)),\n",
       " CloseApproach(time='2059-12-14 16:12', distance=0.07, velocity=16.48, neo=NearEarthObject(designation='2015 CL', name='', diameter=nan, hazardous=False)),\n",
       " CloseApproach(time='2062-02-08 18:02', distance=0.02, velocity=14.27, neo=NearEarthObject(designation='2015 CL', name='', diameter=nan, hazardous=False)),\n",
       " CloseApproach(time='2064-12-14 20:55', distance=0.13, velocity=18.86, neo=NearEarthObject(designation='2015 CL', name='', diameter=nan, hazardous=False)),\n",
       " CloseApproach(time='2067-02-04 10:50', distance=0.09, velocity=12.59, neo=NearEarthObject(designation='2015 CL', name='', diameter=nan, hazardous=False)),\n",
       " CloseApproach(time='2069-12-17 14:42', distance=0.22, velocity=21.91, neo=NearEarthObject(designation='2015 CL', name='', diameter=nan, hazardous=False)),\n",
       " CloseApproach(time='2072-01-27 00:43', distance=0.14, velocity=12.02, neo=NearEarthObject(designation='2015 CL', name='', diameter=nan, hazardous=False)),\n",
       " CloseApproach(time='2074-01-27 07:48', distance=0.46, velocity=30.72, neo=NearEarthObject(designation='2015 CL', name='', diameter=nan, hazardous=False)),\n",
       " CloseApproach(time='2074-12-21 02:01', distance=0.31, velocity=25.07, neo=NearEarthObject(designation='2015 CL', name='', diameter=nan, hazardous=False)),\n",
       " CloseApproach(time='2077-01-15 19:20', distance=0.16, velocity=11.96, neo=NearEarthObject(designation='2015 CL', name='', diameter=nan, hazardous=False)),\n",
       " CloseApproach(time='2079-01-31 07:53', distance=0.37, velocity=27.51, neo=NearEarthObject(designation='2015 CL', name='', diameter=nan, hazardous=False)),\n",
       " CloseApproach(time='2079-12-24 22:03', distance=0.39, velocity=28.26, neo=NearEarthObject(designation='2015 CL', name='', diameter=nan, hazardous=False)),\n",
       " CloseApproach(time='2082-01-05 13:30', distance=0.16, velocity=11.97, neo=NearEarthObject(designation='2015 CL', name='', diameter=nan, hazardous=False)),\n",
       " CloseApproach(time='2084-02-04 00:59', distance=0.28, velocity=24.36, neo=NearEarthObject(designation='2015 CL', name='', diameter=nan, hazardous=False)),\n",
       " CloseApproach(time='2084-12-27 22:23', distance=0.48, velocity=31.44, neo=NearEarthObject(designation='2015 CL', name='', diameter=nan, hazardous=False)),\n",
       " CloseApproach(time='2086-12-26 14:19', distance=0.13, velocity=12.06, neo=NearEarthObject(designation='2015 CL', name='', diameter=nan, hazardous=False)),\n",
       " CloseApproach(time='2089-02-06 09:02', distance=0.19, velocity=21.22, neo=NearEarthObject(designation='2015 CL', name='', diameter=nan, hazardous=False)),\n",
       " CloseApproach(time='2091-12-18 20:15', distance=0.09, velocity=12.79, neo=NearEarthObject(designation='2015 CL', name='', diameter=nan, hazardous=False)),\n",
       " CloseApproach(time='2094-02-08 19:18', distance=0.11, velocity=18.37, neo=NearEarthObject(designation='2015 CL', name='', diameter=nan, hazardous=False)),\n",
       " CloseApproach(time='2096-12-14 08:55', distance=0.04, velocity=14.57, neo=NearEarthObject(designation='2015 CL', name='', diameter=nan, hazardous=False)),\n",
       " CloseApproach(time='2099-02-09 21:10', distance=0.03, velocity=15.74, neo=NearEarthObject(designation='2015 CL', name='', diameter=nan, hazardous=False))]"
      ]
     },
     "execution_count": 111,
     "metadata": {},
     "output_type": "execute_result"
    }
   ],
   "source": [
    "neos_dict['2015 CL'].approaches"
   ]
  },
  {
   "cell_type": "code",
   "execution_count": null,
   "metadata": {},
   "outputs": [],
   "source": []
  }
 ],
 "metadata": {
  "kernelspec": {
   "display_name": "Python 3",
   "language": "python",
   "name": "python3"
  },
  "language_info": {
   "codemirror_mode": {
    "name": "ipython",
    "version": 3
   },
   "file_extension": ".py",
   "mimetype": "text/x-python",
   "name": "python",
   "nbconvert_exporter": "python",
   "pygments_lexer": "ipython3",
   "version": "3.6.6"
  }
 },
 "nbformat": 4,
 "nbformat_minor": 2
}
