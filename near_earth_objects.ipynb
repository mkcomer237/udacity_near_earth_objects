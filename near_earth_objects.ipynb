{
 "cells": [
  {
   "cell_type": "markdown",
   "metadata": {},
   "source": [
    "### Near Earth Objects \n",
    "\n",
    "Load, query, and output an NEO and implement a command line tool to do this given the database file.  \n",
    "\n",
    "- Inspect a NEO\n",
    "- Query the database with an arbitrary set of filters \n",
    "\n",
    "\n",
    "- pdes - the primary designation of the NEO. This is a unique identifier in the database, and its \"name\" to computer systems.\n",
    "- name - the International Astronomical Union (IAU) name of the NEO. This is its \"name\" to humans.\n",
    "- pha - whether NASA has marked the NEO as a \"Potentially Hazardous Asteroid,\" roughly meaning that it's large and can come quite close to Earth.\n",
    "- diameter - the NEO's diameter (from an equivalent sphere) in kilometers.\n",
    "\n",
    "\n",
    "neos.csv\n",
    "\n",
    "and \n",
    "\n",
    "cad.json\n"
   ]
  },
  {
   "cell_type": "markdown",
   "metadata": {},
   "source": [
    "### Explore the data "
   ]
  },
  {
   "cell_type": "code",
   "execution_count": 1,
   "metadata": {},
   "outputs": [],
   "source": [
    "import json\n",
    "import csv\n",
    "import pandas as pd "
   ]
  },
  {
   "cell_type": "code",
   "execution_count": 2,
   "metadata": {},
   "outputs": [],
   "source": [
    "with open('data/cad.json', mode='r') as infile:\n",
    "    cad = json.load(infile) "
   ]
  },
  {
   "cell_type": "code",
   "execution_count": 3,
   "metadata": {},
   "outputs": [
    {
     "data": {
      "text/plain": [
       "['des',\n",
       " 'orbit_id',\n",
       " 'jd',\n",
       " 'cd',\n",
       " 'dist',\n",
       " 'dist_min',\n",
       " 'dist_max',\n",
       " 'v_rel',\n",
       " 'v_inf',\n",
       " 't_sigma_f',\n",
       " 'h']"
      ]
     },
     "execution_count": 3,
     "metadata": {},
     "output_type": "execute_result"
    }
   ],
   "source": [
    "# Field labels \n",
    "cad['fields']"
   ]
  },
  {
   "cell_type": "code",
   "execution_count": 18,
   "metadata": {},
   "outputs": [
    {
     "data": {
      "text/plain": [
       "['170903',\n",
       " '105',\n",
       " '2415020.507669610',\n",
       " '1900-Jan-01 00:11',\n",
       " '0.0921795123769547',\n",
       " '0.0912006569517418',\n",
       " '0.0931589328621254',\n",
       " '16.7523040362574',\n",
       " '16.7505784933163',\n",
       " '01:00',\n",
       " '18.1']"
      ]
     },
     "execution_count": 18,
     "metadata": {},
     "output_type": "execute_result"
    }
   ],
   "source": [
    "# One Entry\n",
    "cad['data'][0]"
   ]
  },
  {
   "cell_type": "code",
   "execution_count": 19,
   "metadata": {},
   "outputs": [
    {
     "data": {
      "text/plain": [
       "dict_keys(['signature', 'count', 'fields', 'data'])"
      ]
     },
     "execution_count": 19,
     "metadata": {},
     "output_type": "execute_result"
    }
   ],
   "source": [
    "cad.keys()"
   ]
  },
  {
   "cell_type": "code",
   "execution_count": 20,
   "metadata": {},
   "outputs": [
    {
     "data": {
      "text/plain": [
       "'406785'"
      ]
     },
     "execution_count": 20,
     "metadata": {},
     "output_type": "execute_result"
    }
   ],
   "source": [
    "cad['count']"
   ]
  },
  {
   "cell_type": "code",
   "execution_count": 26,
   "metadata": {},
   "outputs": [
    {
     "name": "stdout",
     "output_type": "stream",
     "text": [
      "des:  2015 CL\n",
      "distance:  0.144929602021186\n",
      "relative velocity:  12.0338907050642\n",
      "des:  2002 PB\n",
      "distance:  0.499221505520251\n",
      "relative velocity:  29.3862908945476\n",
      "des:  417655\n",
      "distance:  0.347809805138266\n",
      "relative velocity:  9.63652182082792\n",
      "des:  2002 AY1\n",
      "distance:  0.271330274354689\n",
      "relative velocity:  24.6801874471394\n"
     ]
    }
   ],
   "source": [
    "# 2015 CL\n",
    "for approach in cad['data']:\n",
    "    if approach[3].startswith('2000-Jan-01'):\n",
    "        print('des: ', approach[0])\n",
    "        print('distance: ', approach[4])\n",
    "        print('relative velocity: ', approach[7])"
   ]
  },
  {
   "cell_type": "code",
   "execution_count": 5,
   "metadata": {},
   "outputs": [
    {
     "name": "stdout",
     "output_type": "stream",
     "text": [
      "['id', 'spkid', 'full_name', 'pdes', 'name', 'prefix', 'neo', 'pha', 'H', 'G', 'M1', 'M2', 'K1', 'K2', 'PC', 'diameter', 'extent', 'albedo', 'rot_per', 'GM', 'BV', 'UB', 'IR', 'spec_B', 'spec_T', 'H_sigma', 'diameter_sigma', 'orbit_id', 'epoch', 'epoch_mjd', 'epoch_cal', 'equinox', 'e', 'a', 'q', 'i', 'om', 'w', 'ma', 'ad', 'n', 'tp', 'tp_cal', 'per', 'per_y', 'moid', 'moid_ld', 'moid_jup', 't_jup', 'sigma_e', 'sigma_a', 'sigma_q', 'sigma_i', 'sigma_om', 'sigma_w', 'sigma_ma', 'sigma_ad', 'sigma_n', 'sigma_tp', 'sigma_per', 'class', 'producer', 'data_arc', 'first_obs', 'last_obs', 'n_obs_used', 'n_del_obs_used', 'n_dop_obs_used', 'condition_code', 'rms', 'two_body', 'A1', 'A2', 'A3', 'DT']\n",
      "['a0000433', '2000433', '   433 Eros (A898 PA)', '433', 'Eros', '', 'Y', 'N', '10.4', '0.46', '', '', '', '', '', '16.84', '34.4x11.2x11.2', '0.25', '5.270', '4.463e-04', '0.921', '0.531', '', 'S', 'S', '', '0.06', 'JPL 658', '2459000.5', '59000', '20200531.0000000', 'J2000', '.2229512647434284', '1.458045729081037', '1.132972589728666', '10.83054121829922', '304.2993259000444', '178.8822959227224', '271.0717325705167', '1.783118868433408', '.5598186418120109', '2459159.351922368362', '20201105.8519224', '643.0654021001488', '1.76061711731731', '.148623', '57.83961291', '3.2865', '4.582', '9.6497E-9', '2.1374E-10', '1.4063E-8', '1.1645E-6', '3.8525E-6', '4.088E-6', '1.4389E-6', '2.6139E-10', '1.231E-10', '2.5792E-6', '1.414E-7', 'AMO', 'Giorgini', '46330', '1893-10-29', '2020-09-03', '8767', '4', '2', '0', '.28397', '', '', '', '', '']\n"
     ]
    }
   ],
   "source": [
    "with open('data/neos.csv', mode='r') as incsv:\n",
    "    neos = csv.reader(incsv)\n",
    "    for cnt, line in enumerate(neos):\n",
    "        print(line)\n",
    "        if cnt==1:\n",
    "            break"
   ]
  },
  {
   "cell_type": "code",
   "execution_count": 7,
   "metadata": {},
   "outputs": [],
   "source": [
    "from collections import OrderedDict"
   ]
  },
  {
   "cell_type": "code",
   "execution_count": 8,
   "metadata": {},
   "outputs": [
    {
     "name": "stdout",
     "output_type": "stream",
     "text": [
      "['id', 'spkid', 'full_name', 'pdes', 'name', 'prefix', 'neo', 'pha', 'H', 'G', 'M1', 'M2', 'K1', 'K2', 'PC', 'diameter', 'extent', 'albedo', 'rot_per', 'GM', 'BV', 'UB', 'IR', 'spec_B', 'spec_T', 'H_sigma', 'diameter_sigma', 'orbit_id', 'epoch', 'epoch_mjd', 'epoch_cal', 'equinox', 'e', 'a', 'q', 'i', 'om', 'w', 'ma', 'ad', 'n', 'tp', 'tp_cal', 'per', 'per_y', 'moid', 'moid_ld', 'moid_jup', 't_jup', 'sigma_e', 'sigma_a', 'sigma_q', 'sigma_i', 'sigma_om', 'sigma_w', 'sigma_ma', 'sigma_ad', 'sigma_n', 'sigma_tp', 'sigma_per', 'class', 'producer', 'data_arc', 'first_obs', 'last_obs', 'n_obs_used', 'n_del_obs_used', 'n_dop_obs_used', 'condition_code', 'rms', 'two_body', 'A1', 'A2', 'A3', 'DT']\n"
     ]
    }
   ],
   "source": [
    "# Import into a dict with the first element as the key \n",
    "with open('data/neos.csv', mode='r') as incsv:\n",
    "    neos = csv.reader(incsv)\n",
    "    # Get the header (and prevent it from being put into the dictionary)\n",
    "    header = next(neos)\n",
    "    print(header)\n",
    "    neos_dict = {}\n",
    "    # Create a dictionary with id as keys, and a dictionary based on the headers for each entry for easy lookup\n",
    "    for line in neos:\n",
    "        neos_dict[line[0]] = {header[i]:line[i] for i in range(len(header))}"
   ]
  },
  {
   "cell_type": "code",
   "execution_count": 9,
   "metadata": {},
   "outputs": [
    {
     "data": {
      "text/plain": [
       "23967"
      ]
     },
     "execution_count": 9,
     "metadata": {},
     "output_type": "execute_result"
    }
   ],
   "source": [
    "len(neos_dict)\n"
   ]
  },
  {
   "cell_type": "code",
   "execution_count": 10,
   "metadata": {},
   "outputs": [
    {
     "data": {
      "text/plain": [
       "'1.5'"
      ]
     },
     "execution_count": 10,
     "metadata": {},
     "output_type": "execute_result"
    }
   ],
   "source": [
    "neos_dict['a0001862']['diameter']"
   ]
  },
  {
   "cell_type": "code",
   "execution_count": 11,
   "metadata": {},
   "outputs": [
    {
     "data": {
      "text/plain": [
       "{'id': 'a0001862',\n",
       " 'spkid': '2001862',\n",
       " 'full_name': '  1862 Apollo (1932 HA)',\n",
       " 'pdes': '1862',\n",
       " 'name': 'Apollo',\n",
       " 'prefix': '',\n",
       " 'neo': 'Y',\n",
       " 'pha': 'Y',\n",
       " 'H': '16.25',\n",
       " 'G': '0.09',\n",
       " 'M1': '',\n",
       " 'M2': '',\n",
       " 'K1': '',\n",
       " 'K2': '',\n",
       " 'PC': '',\n",
       " 'diameter': '1.5',\n",
       " 'extent': '',\n",
       " 'albedo': '0.25',\n",
       " 'rot_per': '3.065',\n",
       " 'GM': '',\n",
       " 'BV': '0.819',\n",
       " 'UB': '0.481',\n",
       " 'IR': '',\n",
       " 'spec_B': 'Q',\n",
       " 'spec_T': 'Q',\n",
       " 'H_sigma': '',\n",
       " 'diameter_sigma': '',\n",
       " 'orbit_id': 'JPL 308',\n",
       " 'epoch': '2459000.5',\n",
       " 'epoch_mjd': '59000',\n",
       " 'epoch_cal': '20200531.0000000',\n",
       " 'equinox': 'J2000',\n",
       " 'e': '.5599167398990702',\n",
       " 'a': '1.470345437077941',\n",
       " 'q': '.6470744134237867',\n",
       " 'i': '6.35473160977809',\n",
       " 'om': '35.62713125014458',\n",
       " 'w': '285.9759580870181',\n",
       " 'ma': '88.54647870988587',\n",
       " 'ad': '2.293616460732095',\n",
       " 'n': '.55280887491436',\n",
       " 'tp': '2458840.324426256537',\n",
       " 'tp_cal': '20191222.8244263',\n",
       " 'per': '651.2196463122456',\n",
       " 'per_y': '1.78294222125187',\n",
       " 'moid': '.0258141',\n",
       " 'moid_ld': '10.046073297',\n",
       " 'moid_jup': '3.07104',\n",
       " 't_jup': '4.414',\n",
       " 'sigma_e': '1.3185E-8',\n",
       " 'sigma_a': '8.2996E-10',\n",
       " 'sigma_q': '1.956E-8',\n",
       " 'sigma_i': '3.3105E-6',\n",
       " 'sigma_om': '2.3987E-5',\n",
       " 'sigma_w': '2.4893E-5',\n",
       " 'sigma_ma': '3.4486E-6',\n",
       " 'sigma_ad': '1.2947E-9',\n",
       " 'sigma_n': '4.6806E-10',\n",
       " 'sigma_tp': '6.1038E-6',\n",
       " 'sigma_per': '5.5138E-7',\n",
       " 'class': 'APO',\n",
       " 'producer': 'Otto Matic',\n",
       " 'data_arc': '32581',\n",
       " 'first_obs': '1930-12-13',\n",
       " 'last_obs': '2020-02-25',\n",
       " 'n_obs_used': '1689',\n",
       " 'n_del_obs_used': '8',\n",
       " 'n_dop_obs_used': '9',\n",
       " 'condition_code': '0',\n",
       " 'rms': '.48568',\n",
       " 'two_body': '',\n",
       " 'A1': '',\n",
       " 'A2': '-3.770246513203781E-15',\n",
       " 'A3': '',\n",
       " 'DT': ''}"
      ]
     },
     "execution_count": 11,
     "metadata": {},
     "output_type": "execute_result"
    }
   ],
   "source": [
    "neos_dict['a0001862']"
   ]
  },
  {
   "cell_type": "code",
   "execution_count": 16,
   "metadata": {},
   "outputs": [
    {
     "data": {
      "text/plain": [
       "343"
      ]
     },
     "execution_count": 16,
     "metadata": {},
     "output_type": "execute_result"
    }
   ],
   "source": [
    "counter = 0 \n",
    "for key, value in neos_dict.items():\n",
    "    if neos_dict[key]['name'] != '':\n",
    "        counter += 1 \n",
    "counter"
   ]
  },
  {
   "cell_type": "code",
   "execution_count": 17,
   "metadata": {},
   "outputs": [
    {
     "data": {
      "text/plain": [
       "1268"
      ]
     },
     "execution_count": 17,
     "metadata": {},
     "output_type": "execute_result"
    }
   ],
   "source": [
    "counter = 0 \n",
    "for key, value in neos_dict.items():\n",
    "    if neos_dict[key]['diameter'] != '':\n",
    "        counter += 1 \n",
    "counter"
   ]
  },
  {
   "cell_type": "code",
   "execution_count": null,
   "metadata": {},
   "outputs": [],
   "source": []
  }
 ],
 "metadata": {
  "kernelspec": {
   "display_name": "Python 3",
   "language": "python",
   "name": "python3"
  },
  "language_info": {
   "codemirror_mode": {
    "name": "ipython",
    "version": 3
   },
   "file_extension": ".py",
   "mimetype": "text/x-python",
   "name": "python",
   "nbconvert_exporter": "python",
   "pygments_lexer": "ipython3",
   "version": "3.8.5"
  }
 },
 "nbformat": 4,
 "nbformat_minor": 2
}
